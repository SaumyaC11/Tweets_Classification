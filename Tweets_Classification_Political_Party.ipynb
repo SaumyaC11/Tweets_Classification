{
  "cells": [
    {
      "cell_type": "code",
      "execution_count": null,
      "metadata": {
        "id": "vogrCA5aYPtQ",
        "scrolled": true
      },
      "outputs": [],
      "source": [
        "import numpy as np\n",
        "import pandas as pd\n",
        "%matplotlib inline\n",
        "import matplotlib.pyplot as plt\n",
        "import seaborn as sns\n",
        "import nltk\n",
        "import sklearn\n",
        "import string\n",
        "import re # helps you filter urls\n",
        "from IPython.display import display, Latex, Markdown\n"
      ]
    },
    {
      "cell_type": "markdown",
      "metadata": {
        "id": "gwFrJG7ViiNH"
      },
      "source": [
        "**Run the following cell if on Google Colab:**"
      ]
    },
    {
      "cell_type": "code",
      "execution_count": null,
      "metadata": {
        "colab": {
          "base_uri": "https://localhost:8080/"
        },
        "id": "swvHqZmxiiNH",
        "outputId": "d3c7fb8c-1a16-4276-d8c1-fd65d19d1eb0"
      },
      "outputs": [
        {
          "output_type": "stream",
          "name": "stdout",
          "text": [
            "Mounted at /content/drive\n",
            "[Errno 2] No such file or directory: '/content/drive/My Drive/Colab Notebooks/hw3colab'\n",
            "/content\n"
          ]
        }
      ],
      "source": [
        "\n",
        "# colab-specific file access\n",
        "\n",
        "from google.colab import drive\n",
        "drive.mount('/content/drive')\n",
        "%cd /content/drive/My Drive/Colab Notebooks/hw3colab"
      ]
    },
    {
      "cell_type": "markdown",
      "metadata": {
        "id": "6PmFK0GgYPtU"
      },
      "source": [
        "# Classifying tweets\n",
        "\n",
        "In this problem, we will be analyzing Twitter data related to the 2016 US Presidential election extracted using [the Twitter API](https://dev.twitter.com/overview/api). The data contains tweets posted by the following six Twitter accounts: `realDonaldTrump, mike_pence, GOP, HillaryClinton, timkaine, TheDemocrats`\n",
        "\n",
        "For every tweet, there are two pieces of information:\n",
        "- `screen_name`: the Twitter handle of the user tweeting and\n",
        "- `text`: the content of the tweet.\n",
        "\n",
        "The tweets have been divided into two parts - train and test available to you in CSV files. For train, both the `screen_name` and `text` attributes were provided but for test, `screen_name` is hidden.\n",
        "\n",
        "The overarching goal of the problem is to \"predict\" the political inclination (Republican/Democratic) of the Twitter user from one of his/her tweets. The ground truth (i.e., true class labels) is determined from the `screen_name` of the tweet as follows\n",
        "- `realDonaldTrump, mike_pence, GOP` are Republicans\n",
        "- `HillaryClinton, timkaine, TheDemocrats` are Democrats\n",
        "\n",
        "Thus, this is a binary classification problem.\n",
        "\n",
        "The problem proceeds in three stages:\n",
        "- **Text processing **: We will clean up the raw tweet text using the various functions offered by the [nltk](http://www.nltk.org/genindex.html) package.\n",
        "- **Feature construction **: In this part, we will construct bag-of-words feature vectors and training labels from the processed text of tweets and the `screen_name` columns respectively.\n",
        "- **Classification **: Using the features derived, we will use [sklearn](http://scikit-learn.org/stable/modules/classes.html) package to learn a model which classifies the tweets as desired.\n",
        "\n",
        "Will use two new python packages in this problem: `nltk` and `sklearn`, both of which should be available in Anaconda and Google Colab. However, NLTK comes with many corpora, toy grammars, trained models, etc, which have to be downloaded manually. This assignment requires NLTK's stopwords list, POS tagger, and WordNetLemmatizer. Install them using:"
      ]
    },
    {
      "cell_type": "code",
      "execution_count": null,
      "metadata": {
        "id": "wQGjuhliYPtV",
        "colab": {
          "base_uri": "https://localhost:8080/"
        },
        "outputId": "a63fdb1a-703d-4224-dcf3-9693a6e2dee0"
      },
      "outputs": [
        {
          "output_type": "stream",
          "name": "stderr",
          "text": [
            "[nltk_data] Downloading package stopwords to /root/nltk_data...\n",
            "[nltk_data]   Unzipping corpora/stopwords.zip.\n",
            "[nltk_data] Downloading package wordnet to /root/nltk_data...\n",
            "[nltk_data] Downloading package averaged_perceptron_tagger to\n",
            "[nltk_data]     /root/nltk_data...\n",
            "[nltk_data]   Unzipping taggers/averaged_perceptron_tagger.zip.\n",
            "[nltk_data] Downloading package punkt to /root/nltk_data...\n",
            "[nltk_data]   Unzipping tokenizers/punkt.zip.\n"
          ]
        }
      ],
      "source": [
        "nltk.download('stopwords')\n",
        "nltk.download('wordnet')\n",
        "nltk.download('averaged_perceptron_tagger')\n",
        "# Verify that the following commands work for you, before moving on.\n",
        "nltk.download('punkt')\n",
        "lemmatizer=nltk.stem.wordnet.WordNetLemmatizer()\n",
        "stopwords=nltk.corpus.stopwords.words('english')"
      ]
    },
    {
      "cell_type": "markdown",
      "metadata": {
        "id": "pTqEaBw9YPtZ"
      },
      "source": [
        "\n",
        "\n",
        "## A. Text Processing\n",
        "\n",
        "The first task to fill in the following function which processes and tokenizes raw text. The generated list of tokens should meet the following specifications:\n",
        "1. The tokens must all be in lower case.\n",
        "2. The tokens should appear in the same order as in the raw text.\n",
        "3. The tokens must be in their lemmatized form. If a word cannot be lemmatized (i.e, you get an exception), simply catch it and ignore it. These words will not appear in the token list.\n",
        "4. The tokens must not contain any punctuations. Punctuations should be handled as follows: (a) Apostrophe of the form `'s` must be ignored. e.g., `She's` becomes `she`. (b) Other apostrophes should be omitted. e.g, `don't` becomes `dont`. (c) Words must be broken at the hyphen and other punctuations.\n",
        "5. The tokens must not contain any part of a url.\n",
        "\n",
        "\\\n",
        "\n",
        "In order for `lemmatize()` to give you the root form for any word, you have to provide the context in which you want to lemmatize through the `pos` parameter: `lemmatizer.lemmatize(word, pos=SOMEVALUE)`. The context should be the part of speech (POS) for that word. The good news is we do not have to manually write out the lexical categories for each word because [nltk.pos_tag()](https://www.nltk.org/book/ch05.html) will do this. Now you just need to use the results from `pos_tag()` for the `pos` parameter.\n",
        "However, you can notice the POS tag returned from `pos_tag()` is in different format than the expected pos by `lemmatizer`.\n",
        "> pos\n",
        "(Syntactic category): n for noun files, v for verb files, a for adjective files, r for adverb files.\n",
        "\n",
        "You need to map these pos appropriately. `nltk.help.upenn_tagset()` provides description of each tag returned by `pos_tag()`.\n",
        "\n",
        "<img src=\"https://upload.wikimedia.org/wikipedia/commons/d/d5/Hey_Machine_Learning_Logo.png\" width=\"65px\" align=\"left\" float=\"left\"/>\n",
        "\n",
        "\n",
        "<br><br><br>\n"
      ]
    },
    {
      "cell_type": "code",
      "execution_count": null,
      "metadata": {
        "id": "B5IMtsQoYPta"
      },
      "outputs": [],
      "source": [
        "# Convert part of speech tag from nltk.pos_tag to word net compatible format\n",
        "# Simple mapping based on first letter of return tag to make grading consistent\n",
        "# Everything else will be considered noun 'n'\n",
        "from nltk.tokenize import word_tokenize\n",
        "from nltk import pos_tag\n",
        "posMapping = {\n",
        "# \"First_Letter by nltk.pos_tag\":\"POS_for_lemmatizer\"\n",
        "    \"N\":'n',\n",
        "    \"V\":'v',\n",
        "    \"J\":'a',\n",
        "    \"R\":'r'\n",
        "}\n",
        "# 14% credits\n",
        "def process(text, lemmatizer=nltk.stem.wordnet.WordNetLemmatizer()):\n",
        "    \"\"\" Normalizes case and handles punctuation\n",
        "    Inputs:\n",
        "        text: str: raw text\n",
        "        lemmatizer: an instance of a class implementing the lemmatize() method\n",
        "                    (the default argument is of type nltk.stem.wordnet.WordNetLemmatizer)\n",
        "    Outputs:\n",
        "        list(str): tokenized text\n",
        "    \"\"\"\n",
        "    lower_text = text.lower()\n",
        "\n",
        "    regex2 = r'http[s]?://\\S+'\n",
        "    text2 = re.sub(regex2, '', lower_text)\n",
        "\n",
        "    text2 = re.sub(r\"'s\\b\", '', text2)\n",
        "    text2 = re.sub(r\"'\", '', text2)\n",
        "\n",
        "    text2 = text2.replace(\"-\", \" \")\n",
        "    text_p = re.sub(r'[!\"#$%&()*+,\\./:;<=>?@[\\\\\\]^_`{|}~]', ' ', text2)\n",
        "    text_p = re.sub(r'\\.\\.\\.|…', ' … ', text_p)\n",
        "    tokens = word_tokenize(text_p)\n",
        "\n",
        "    lemmatize_words_list = []\n",
        "    pos_words = pos_tag(tokens)\n",
        "\n",
        "\n",
        "    for word, tag in pos_words:\n",
        "        pos = posMapping.get(tag[0].upper(), 'n')  # Default POS is noun\n",
        "        lemmatized_word = lemmatizer.lemmatize(word, pos)\n",
        "        lemmatize_words_list.append(lemmatized_word)\n",
        "\n",
        "    return lemmatize_words_list\n"
      ]
    },
    {
      "cell_type": "code",
      "execution_count": null,
      "metadata": {
        "id": "UrEzaolBYPtf",
        "colab": {
          "base_uri": "https://localhost:8080/"
        },
        "outputId": "f984dfeb-42fc-467d-bea3-33f77d3f1782"
      },
      "outputs": [
        {
          "output_type": "stream",
          "name": "stdout",
          "text": [
            "['im', 'do', 'well', 'how', 'about', 'you']\n",
            "['education', 'be', 'the', 'ability', 'to', 'listen', 'to', 'almost', 'anything', 'without', 'lose', 'your', 'temper', 'or', 'your', 'self', 'confidence']\n",
            "['be', 'have', 'do', 'language', 'city', 'mice']\n",
            "['it', 'hilarious', 'check', 'it', 'out']\n",
            "['see', 'it', 'sunday', 'morning', 'at', '8', '30a', 'on', 'rtv6', 'and', 'our', 'rtv6', 'app', 'http', '…']\n"
          ]
        }
      ],
      "source": [
        "\n",
        "print(process(\"I'm doing well! How about you?\"))\n",
        "# ['im', 'do', 'well', 'how', 'about', 'you']\n",
        "\n",
        "print(process(\"Education is the ability to listen to almost anything without losing your temper or your self-confidence.\"))\n",
        "# ['education', 'be', 'the', 'ability', 'to', 'listen', 'to', 'almost', 'anything', 'without', 'lose', 'your', 'temper', 'or', 'your', 'self', 'confidence']\n",
        "\n",
        "print(process(\"been had done languages cities mice\"))\n",
        "# ['be', 'have', 'do', 'language', 'city', 'mice']\n",
        "\n",
        "print(process(\"It's hilarious. Check it out http://t.co/dummyurl\"))\n",
        "# ['it', 'hilarious', 'check', 'it', 'out']\n",
        "\n",
        "print(process(\"See it Sunday morning at 8:30a on RTV6 and our RTV6 app. http:…\"))\n",
        "# ['see', 'it', 'sunday', 'morning', 'at', '8', '30a', 'on', 'rtv6', 'and', 'our', 'rtv6', 'app', 'http', '…']\n",
        "# Here '…' is a special unicode character not in string.punctuation and it is still present in processed text"
      ]
    },
    {
      "cell_type": "markdown",
      "metadata": {
        "id": "Ylcws_-LYPti"
      },
      "source": [
        "<img src=\"https://upload.wikimedia.org/wikipedia/commons/d/d5/Hey_Machine_Learning_Logo.png\" width=\"65px\" align=\"left\" float=\"left\"/>\n",
        "<br><br><br>\n",
        "\n",
        "## Q2 (10%):\n",
        "\n",
        "You will now use the `process()` function we implemented to convert the pandas dataframe we just loaded from tweets_train.csv file. Your function should be able to handle any data frame which contains a column called `text`. The data frame you return should replace every string in `text` with the result of `process()` and retain all other columns as such. Do not change the order of rows/columns. Before writing `process_all()`, load the data into a DataFrame and look at its format:"
      ]
    },
    {
      "cell_type": "code",
      "execution_count": null,
      "metadata": {
        "id": "aEONT9fXYPti",
        "colab": {
          "base_uri": "https://localhost:8080/",
          "height": 206
        },
        "outputId": "1f12970d-8d47-4e80-b4b2-4cfb914e62a6"
      },
      "outputs": [
        {
          "output_type": "display_data",
          "data": {
            "text/plain": [
              "      screen_name                                               text\n",
              "0             GOP  RT @GOPconvention: #Oregon votes today. That m...\n",
              "1    TheDemocrats  RT @DWStweets: The choice for 2016 is clear: W...\n",
              "2  HillaryClinton  Trump's calling for trillion dollar tax cuts f...\n",
              "3  HillaryClinton  .@TimKaine's guiding principle: the belief tha...\n",
              "4        timkaine  Glad the Senate could pass a #THUD / MilCon / ..."
            ],
            "text/html": [
              "\n",
              "  <div id=\"df-fbb04180-12ac-4b77-88b7-5ad2e5a46203\" class=\"colab-df-container\">\n",
              "    <div>\n",
              "<style scoped>\n",
              "    .dataframe tbody tr th:only-of-type {\n",
              "        vertical-align: middle;\n",
              "    }\n",
              "\n",
              "    .dataframe tbody tr th {\n",
              "        vertical-align: top;\n",
              "    }\n",
              "\n",
              "    .dataframe thead th {\n",
              "        text-align: right;\n",
              "    }\n",
              "</style>\n",
              "<table border=\"1\" class=\"dataframe\">\n",
              "  <thead>\n",
              "    <tr style=\"text-align: right;\">\n",
              "      <th></th>\n",
              "      <th>screen_name</th>\n",
              "      <th>text</th>\n",
              "    </tr>\n",
              "  </thead>\n",
              "  <tbody>\n",
              "    <tr>\n",
              "      <th>0</th>\n",
              "      <td>GOP</td>\n",
              "      <td>RT @GOPconvention: #Oregon votes today. That m...</td>\n",
              "    </tr>\n",
              "    <tr>\n",
              "      <th>1</th>\n",
              "      <td>TheDemocrats</td>\n",
              "      <td>RT @DWStweets: The choice for 2016 is clear: W...</td>\n",
              "    </tr>\n",
              "    <tr>\n",
              "      <th>2</th>\n",
              "      <td>HillaryClinton</td>\n",
              "      <td>Trump's calling for trillion dollar tax cuts f...</td>\n",
              "    </tr>\n",
              "    <tr>\n",
              "      <th>3</th>\n",
              "      <td>HillaryClinton</td>\n",
              "      <td>.@TimKaine's guiding principle: the belief tha...</td>\n",
              "    </tr>\n",
              "    <tr>\n",
              "      <th>4</th>\n",
              "      <td>timkaine</td>\n",
              "      <td>Glad the Senate could pass a #THUD / MilCon / ...</td>\n",
              "    </tr>\n",
              "  </tbody>\n",
              "</table>\n",
              "</div>\n",
              "    <div class=\"colab-df-buttons\">\n",
              "\n",
              "  <div class=\"colab-df-container\">\n",
              "    <button class=\"colab-df-convert\" onclick=\"convertToInteractive('df-fbb04180-12ac-4b77-88b7-5ad2e5a46203')\"\n",
              "            title=\"Convert this dataframe to an interactive table.\"\n",
              "            style=\"display:none;\">\n",
              "\n",
              "  <svg xmlns=\"http://www.w3.org/2000/svg\" height=\"24px\" viewBox=\"0 -960 960 960\">\n",
              "    <path d=\"M120-120v-720h720v720H120Zm60-500h600v-160H180v160Zm220 220h160v-160H400v160Zm0 220h160v-160H400v160ZM180-400h160v-160H180v160Zm440 0h160v-160H620v160ZM180-180h160v-160H180v160Zm440 0h160v-160H620v160Z\"/>\n",
              "  </svg>\n",
              "    </button>\n",
              "\n",
              "  <style>\n",
              "    .colab-df-container {\n",
              "      display:flex;\n",
              "      gap: 12px;\n",
              "    }\n",
              "\n",
              "    .colab-df-convert {\n",
              "      background-color: #E8F0FE;\n",
              "      border: none;\n",
              "      border-radius: 50%;\n",
              "      cursor: pointer;\n",
              "      display: none;\n",
              "      fill: #1967D2;\n",
              "      height: 32px;\n",
              "      padding: 0 0 0 0;\n",
              "      width: 32px;\n",
              "    }\n",
              "\n",
              "    .colab-df-convert:hover {\n",
              "      background-color: #E2EBFA;\n",
              "      box-shadow: 0px 1px 2px rgba(60, 64, 67, 0.3), 0px 1px 3px 1px rgba(60, 64, 67, 0.15);\n",
              "      fill: #174EA6;\n",
              "    }\n",
              "\n",
              "    .colab-df-buttons div {\n",
              "      margin-bottom: 4px;\n",
              "    }\n",
              "\n",
              "    [theme=dark] .colab-df-convert {\n",
              "      background-color: #3B4455;\n",
              "      fill: #D2E3FC;\n",
              "    }\n",
              "\n",
              "    [theme=dark] .colab-df-convert:hover {\n",
              "      background-color: #434B5C;\n",
              "      box-shadow: 0px 1px 3px 1px rgba(0, 0, 0, 0.15);\n",
              "      filter: drop-shadow(0px 1px 2px rgba(0, 0, 0, 0.3));\n",
              "      fill: #FFFFFF;\n",
              "    }\n",
              "  </style>\n",
              "\n",
              "    <script>\n",
              "      const buttonEl =\n",
              "        document.querySelector('#df-fbb04180-12ac-4b77-88b7-5ad2e5a46203 button.colab-df-convert');\n",
              "      buttonEl.style.display =\n",
              "        google.colab.kernel.accessAllowed ? 'block' : 'none';\n",
              "\n",
              "      async function convertToInteractive(key) {\n",
              "        const element = document.querySelector('#df-fbb04180-12ac-4b77-88b7-5ad2e5a46203');\n",
              "        const dataTable =\n",
              "          await google.colab.kernel.invokeFunction('convertToInteractive',\n",
              "                                                    [key], {});\n",
              "        if (!dataTable) return;\n",
              "\n",
              "        const docLinkHtml = 'Like what you see? Visit the ' +\n",
              "          '<a target=\"_blank\" href=https://colab.research.google.com/notebooks/data_table.ipynb>data table notebook</a>'\n",
              "          + ' to learn more about interactive tables.';\n",
              "        element.innerHTML = '';\n",
              "        dataTable['output_type'] = 'display_data';\n",
              "        await google.colab.output.renderOutput(dataTable, element);\n",
              "        const docLink = document.createElement('div');\n",
              "        docLink.innerHTML = docLinkHtml;\n",
              "        element.appendChild(docLink);\n",
              "      }\n",
              "    </script>\n",
              "  </div>\n",
              "\n",
              "\n",
              "<div id=\"df-11005528-ba66-44b3-905e-76eaea0bdd79\">\n",
              "  <button class=\"colab-df-quickchart\" onclick=\"quickchart('df-11005528-ba66-44b3-905e-76eaea0bdd79')\"\n",
              "            title=\"Suggest charts\"\n",
              "            style=\"display:none;\">\n",
              "\n",
              "<svg xmlns=\"http://www.w3.org/2000/svg\" height=\"24px\"viewBox=\"0 0 24 24\"\n",
              "     width=\"24px\">\n",
              "    <g>\n",
              "        <path d=\"M19 3H5c-1.1 0-2 .9-2 2v14c0 1.1.9 2 2 2h14c1.1 0 2-.9 2-2V5c0-1.1-.9-2-2-2zM9 17H7v-7h2v7zm4 0h-2V7h2v10zm4 0h-2v-4h2v4z\"/>\n",
              "    </g>\n",
              "</svg>\n",
              "  </button>\n",
              "\n",
              "<style>\n",
              "  .colab-df-quickchart {\n",
              "      --bg-color: #E8F0FE;\n",
              "      --fill-color: #1967D2;\n",
              "      --hover-bg-color: #E2EBFA;\n",
              "      --hover-fill-color: #174EA6;\n",
              "      --disabled-fill-color: #AAA;\n",
              "      --disabled-bg-color: #DDD;\n",
              "  }\n",
              "\n",
              "  [theme=dark] .colab-df-quickchart {\n",
              "      --bg-color: #3B4455;\n",
              "      --fill-color: #D2E3FC;\n",
              "      --hover-bg-color: #434B5C;\n",
              "      --hover-fill-color: #FFFFFF;\n",
              "      --disabled-bg-color: #3B4455;\n",
              "      --disabled-fill-color: #666;\n",
              "  }\n",
              "\n",
              "  .colab-df-quickchart {\n",
              "    background-color: var(--bg-color);\n",
              "    border: none;\n",
              "    border-radius: 50%;\n",
              "    cursor: pointer;\n",
              "    display: none;\n",
              "    fill: var(--fill-color);\n",
              "    height: 32px;\n",
              "    padding: 0;\n",
              "    width: 32px;\n",
              "  }\n",
              "\n",
              "  .colab-df-quickchart:hover {\n",
              "    background-color: var(--hover-bg-color);\n",
              "    box-shadow: 0 1px 2px rgba(60, 64, 67, 0.3), 0 1px 3px 1px rgba(60, 64, 67, 0.15);\n",
              "    fill: var(--button-hover-fill-color);\n",
              "  }\n",
              "\n",
              "  .colab-df-quickchart-complete:disabled,\n",
              "  .colab-df-quickchart-complete:disabled:hover {\n",
              "    background-color: var(--disabled-bg-color);\n",
              "    fill: var(--disabled-fill-color);\n",
              "    box-shadow: none;\n",
              "  }\n",
              "\n",
              "  .colab-df-spinner {\n",
              "    border: 2px solid var(--fill-color);\n",
              "    border-color: transparent;\n",
              "    border-bottom-color: var(--fill-color);\n",
              "    animation:\n",
              "      spin 1s steps(1) infinite;\n",
              "  }\n",
              "\n",
              "  @keyframes spin {\n",
              "    0% {\n",
              "      border-color: transparent;\n",
              "      border-bottom-color: var(--fill-color);\n",
              "      border-left-color: var(--fill-color);\n",
              "    }\n",
              "    20% {\n",
              "      border-color: transparent;\n",
              "      border-left-color: var(--fill-color);\n",
              "      border-top-color: var(--fill-color);\n",
              "    }\n",
              "    30% {\n",
              "      border-color: transparent;\n",
              "      border-left-color: var(--fill-color);\n",
              "      border-top-color: var(--fill-color);\n",
              "      border-right-color: var(--fill-color);\n",
              "    }\n",
              "    40% {\n",
              "      border-color: transparent;\n",
              "      border-right-color: var(--fill-color);\n",
              "      border-top-color: var(--fill-color);\n",
              "    }\n",
              "    60% {\n",
              "      border-color: transparent;\n",
              "      border-right-color: var(--fill-color);\n",
              "    }\n",
              "    80% {\n",
              "      border-color: transparent;\n",
              "      border-right-color: var(--fill-color);\n",
              "      border-bottom-color: var(--fill-color);\n",
              "    }\n",
              "    90% {\n",
              "      border-color: transparent;\n",
              "      border-bottom-color: var(--fill-color);\n",
              "    }\n",
              "  }\n",
              "</style>\n",
              "\n",
              "  <script>\n",
              "    async function quickchart(key) {\n",
              "      const quickchartButtonEl =\n",
              "        document.querySelector('#' + key + ' button');\n",
              "      quickchartButtonEl.disabled = true;  // To prevent multiple clicks.\n",
              "      quickchartButtonEl.classList.add('colab-df-spinner');\n",
              "      try {\n",
              "        const charts = await google.colab.kernel.invokeFunction(\n",
              "            'suggestCharts', [key], {});\n",
              "      } catch (error) {\n",
              "        console.error('Error during call to suggestCharts:', error);\n",
              "      }\n",
              "      quickchartButtonEl.classList.remove('colab-df-spinner');\n",
              "      quickchartButtonEl.classList.add('colab-df-quickchart-complete');\n",
              "    }\n",
              "    (() => {\n",
              "      let quickchartButtonEl =\n",
              "        document.querySelector('#df-11005528-ba66-44b3-905e-76eaea0bdd79 button');\n",
              "      quickchartButtonEl.style.display =\n",
              "        google.colab.kernel.accessAllowed ? 'block' : 'none';\n",
              "    })();\n",
              "  </script>\n",
              "</div>\n",
              "\n",
              "    </div>\n",
              "  </div>\n"
            ],
            "application/vnd.google.colaboratory.intrinsic+json": {
              "type": "dataframe",
              "summary": "{\n  \"name\": \"display(tweets\",\n  \"rows\": 5,\n  \"fields\": [\n    {\n      \"column\": \"screen_name\",\n      \"properties\": {\n        \"dtype\": \"string\",\n        \"num_unique_values\": 4,\n        \"samples\": [\n          \"TheDemocrats\",\n          \"timkaine\",\n          \"GOP\"\n        ],\n        \"semantic_type\": \"\",\n        \"description\": \"\"\n      }\n    },\n    {\n      \"column\": \"text\",\n      \"properties\": {\n        \"dtype\": \"string\",\n        \"num_unique_values\": 5,\n        \"samples\": [\n          \"RT @DWStweets: The choice for 2016 is clear: We need another Democrat in the White House. #DemDebate #WeAreDemocrats http://t.co/0n5g0YN46f\",\n          \"Glad the Senate could pass a #THUD / MilCon / VetAffairs approps bill with solid provisions for Virginia: https://t.co/NxIgRC3hDi\",\n          \"Trump's calling for trillion dollar tax cuts for Wall Street.\\n\\nIt's time for them to pay their fair share. https://t.co/y8vyESIOES\"\n        ],\n        \"semantic_type\": \"\",\n        \"description\": \"\"\n      }\n    }\n  ]\n}"
            }
          },
          "metadata": {}
        }
      ],
      "source": [
        "tweets = pd.read_csv(\"tweets_train.csv\", na_filter=False)\n",
        "display(tweets.head())"
      ]
    },
    {
      "cell_type": "code",
      "execution_count": null,
      "metadata": {
        "id": "SM7hJBdOYPtl"
      },
      "outputs": [],
      "source": [
        "\n",
        "def process_all(df, lemmatizer=nltk.stem.wordnet.WordNetLemmatizer()):\n",
        "    \"\"\" process all text in the dataframe using process() function.\n",
        "    Inputs\n",
        "        df: pd.DataFrame: dataframe containing a column 'text' loaded from the CSV file\n",
        "        lemmatizer: an instance of a class implementing the lemmatize() method\n",
        "                    (the default argument is of type nltk.stem.wordnet.WordNetLemmatizer)\n",
        "    Outputs\n",
        "        pd.DataFrame: dataframe in which the values of text column have been changed from str to list(str),\n",
        "                        the output from process() function. Other columns are unaffected.\n",
        "    \"\"\"\n",
        "    df['text'] = df['text'].apply(process)\n",
        "    return df"
      ]
    },
    {
      "cell_type": "code",
      "execution_count": null,
      "metadata": {
        "id": "lXQP6CAiYPto",
        "colab": {
          "base_uri": "https://localhost:8080/"
        },
        "outputId": "911b4799-de56-464e-cf6c-90d607525003"
      },
      "outputs": [
        {
          "output_type": "stream",
          "name": "stdout",
          "text": [
            "      screen_name                                               text\n",
            "0             GOP  [rt, gopconvention, oregon, vote, today, that,...\n",
            "1    TheDemocrats  [rt, dwstweets, the, choice, for, 2016, be, cl...\n",
            "2  HillaryClinton  [trump, call, for, trillion, dollar, tax, cut,...\n",
            "3  HillaryClinton  [timkaine, guide, principle, the, belief, that...\n",
            "4        timkaine  [glad, the, senate, could, pass, a, thud, milc...\n"
          ]
        }
      ],
      "source": [
        "\n",
        "processed_tweets = process_all(tweets)\n",
        "print(processed_tweets.head())\n",
        "\n",
        "#       screen_name                                               text\n",
        "# 0             GOP  [rt, gopconvention, oregon, vote, today, that,...\n",
        "# 1    TheDemocrats  [rt, dwstweets, the, choice, for, 2016, be, cl...\n",
        "# 2  HillaryClinton  [trump, call, for, trillion, dollar, tax, cut,...\n",
        "# 3  HillaryClinton  [timkaine, guide, principle, the, belief, that...\n",
        "# 4        timkaine  [glad, the, senate, could, pass, a, thud, milc..."
      ]
    },
    {
      "cell_type": "markdown",
      "metadata": {
        "id": "qsBiunCIYPtr"
      },
      "source": [
        "## B. Feature Construction [25%]\n",
        "\n",
        "The next step is to derive feature vectors from the tokenized tweets. In this section, we will be constructing a bag-of-words TF-IDF feature vector. But before that, the number of possible words is prohibitively large and not all of them may be useful for our classification task. We need to determine which words to retain, and which to omit. A common heuristic is to construct a frequency distribution of words in the corpus and prune out the head and tail of the distribution. The intuition of the above operation is as follows. Very common words (i.e. stopwords) add almost no information regarding similarity of two pieces of text. Similarly with very rare words. NLTK has a list of in-built stop words which is a good substitute for head of the distribution. We will consider a word rare if it occurs only in a single document (row) in whole of `tweets_train.csv`.\n",
        "\n",
        "<img src=\"https://upload.wikimedia.org/wikipedia/commons/d/d5/Hey_Machine_Learning_Logo.png\" width=\"65px\" align=\"left\" float=\"left\"/>\n",
        "<br><br><br>\n",
        "\n",
        "## Q3 (15%):\n",
        "\n",
        "Construct a sparse matrix of features for each tweet with the help of `sklearn.feature_extraction.text.TfidfVectorizer` (documentation [here](https://scikit-learn.org/stable/modules/generated/sklearn.feature_extraction.text.TfidfVectorizer.html)). You need to pass a parameter `min_df=2` to filter out the words occuring only in one document in the whole training set. Remember to ignore the stop words as well. You must leave other optional parameters (e.g., `vocab`, `norm`, etc) at their default values. But you may need to use parameters like `lowercase` and `tokenizer` to handle `processed_tweets` that is a `list` of tokens (not raw text)."
      ]
    },
    {
      "cell_type": "code",
      "execution_count": null,
      "metadata": {
        "id": "8NQ9wVm3YPt0"
      },
      "outputs": [],
      "source": [
        "# 14% credits\n",
        "from sklearn.feature_extraction.text import TfidfVectorizer\n",
        "def create_features(processed_tweets, stop_words):\n",
        "    \"\"\" creates the feature matrix using the processed tweet text\n",
        "    Inputs:\n",
        "        processed_tweets: pd.DataFrame: processed tweets read from train/test csv file, containing the column 'text'\n",
        "        stop_words: list(str): stop_words by nltk stopwords (after processing)\n",
        "    Outputs:\n",
        "        sklearn.feature_extraction.text.TfidfVectorizer: the TfidfVectorizer object used\n",
        "            we need this to tranform test tweets in the same way as train tweets\n",
        "        scipy.sparse.csr.csr_matrix: sparse bag-of-words TF-IDF feature matrix\n",
        "    \"\"\"\n",
        "    if not isinstance(stop_words, set):\n",
        "        stop_words = list(stop_words)\n",
        "    elif not isinstance(stop_words, list):\n",
        "        stop_words = list(stop_words)\n",
        "\n",
        "\n",
        "    tfidf = TfidfVectorizer(\n",
        "        stop_words = stop_words,\n",
        "        analyzer='word',\n",
        "        min_df=2,\n",
        "        smooth_idf= True,\n",
        "        use_idf = True\n",
        "    )\n",
        "\n",
        "    process_tweet_as_str = [\" \".join(tokens) for tokens in processed_tweets['text']]\n",
        "    X = tfidf.fit_transform(process_tweet_as_str)\n",
        "    return tfidf, X"
      ]
    },
    {
      "cell_type": "code",
      "execution_count": null,
      "metadata": {
        "id": "XXYtqEyvYPt4",
        "colab": {
          "base_uri": "https://localhost:8080/"
        },
        "outputId": "4a38c20e-1aca-40c6-c980-0c090668b46f"
      },
      "outputs": [
        {
          "output_type": "execute_result",
          "data": {
            "text/plain": [
              "(TfidfVectorizer(min_df=2,\n",
              "                 stop_words=['we', 'youd', 'have', 'his', 'between', 'at', 'and',\n",
              "                             'm', 'what', 'youll', 'all', 'mustnt', 'on',\n",
              "                             'under', 'some', 'your', 'same', 'couldn', 'weren',\n",
              "                             'of', 'shouldnt', 'll', 'itself', 'couldnt',\n",
              "                             'which', 'too', 'very', 'do', 'a', 'y', ...]),\n",
              " <17298x7900 sparse matrix of type '<class 'numpy.float64'>'\n",
              " \twith 161708 stored elements in Compressed Sparse Row format>)"
            ]
          },
          "metadata": {},
          "execution_count": 16
        }
      ],
      "source": [
        "\n",
        "# It is recommended to process stopwords according to our data cleaning rules\n",
        "processed_stopwords = set(np.concatenate([process(word) for word in stopwords]))\n",
        "(tfidf, X) = create_features(processed_tweets, processed_stopwords)\n",
        "# Ignore warning\n",
        "tfidf, X\n"
      ]
    },
    {
      "cell_type": "markdown",
      "metadata": {
        "id": "5WQJih7SYPt6"
      },
      "source": [
        "<img src=\"https://upload.wikimedia.org/wikipedia/commons/d/d5/Hey_Machine_Learning_Logo.png\" width=\"65px\" align=\"left\" float=\"left\"/>\n",
        "\n",
        "<br><br><br>\n",
        "\n",
        "\n",
        "\n",
        "Also for each tweet, assign a class label (0 or 1) using its `screen_name`. Use 0 for realDonaldTrump, mike_pence, GOP and 1 for the rest."
      ]
    },
    {
      "cell_type": "code",
      "execution_count": 1,
      "metadata": {
        "id": "bLtDPaInYPt7"
      },
      "outputs": [],
      "source": [
        "\n",
        "def create_labels(processed_tweets):\n",
        "    \"\"\" creates the class labels from screen_name\n",
        "    Inputs:\n",
        "        processed_tweets: pd.DataFrame: tweets read from train file, containing the column 'screen_name'\n",
        "    Outputs:\n",
        "        numpy.ndarray(int): dense binary numpy array of class labels\n",
        "    \"\"\"\n",
        "    target_labels = {'realDonaldTrump', 'mike_pence', 'GOP'}\n",
        "    labels = processed_tweets['screen_name'].apply(lambda x: 0 if x in target_labels else 1)\n",
        "    return labels.to_numpy(dtype=np.int32)"
      ]
    },
    {
      "cell_type": "code",
      "execution_count": null,
      "metadata": {
        "id": "z49a4djKYPt-",
        "colab": {
          "base_uri": "https://localhost:8080/"
        },
        "outputId": "4971287e-e4e6-42ab-ecf0-f61c8e3c24b5"
      },
      "outputs": [
        {
          "output_type": "execute_result",
          "data": {
            "text/plain": [
              "array([0, 1, 1, ..., 0, 1, 0], dtype=int32)"
            ]
          },
          "metadata": {},
          "execution_count": 18
        }
      ],
      "source": [
        "\n",
        "y = create_labels(processed_tweets)\n",
        "y\n",
        "# 0        0\n",
        "# 1        1\n",
        "# 2        1\n",
        "# 3        1\n",
        "# 4        1\n",
        "#         ..\n",
        "# 17293    0\n",
        "# 17294    0\n",
        "# 17295    0\n",
        "# 17296    1\n",
        "# 17297    0\n",
        "# Name: screen_name, Length: 17298, dtype: int32"
      ]
    },
    {
      "cell_type": "markdown",
      "metadata": {
        "id": "5STbtJYSYPuA"
      },
      "source": [
        "## C. Classification [50%]\n",
        "\n",
        "And finally, we are ready to put things together and learn a model for the classification of tweets. The classifier you will be using is [`sklearn.svm.SVC`](http://scikit-learn.org/stable/modules/generated/sklearn.svm.SVC.html#sklearn.svm.SVC) (Support Vector Machine).\n",
        "\n",
        "At the heart of SVMs is the concept of kernel functions, which determines how the similarity/distance between two data points in computed. `sklearn`'s SVM provides four kernel functions: `linear`, `poly`, `rbf`, `sigmoid` (details [here](http://scikit-learn.org/stable/modules/svm.html#svm-kernels)) but you can also implement your own distance function and pass it as an argument to the classifier.\n",
        "\n",
        "Through the various functions you implement in this part, you will be able to learn a classifier, score a classifier based on how well it performs, use it for prediction tasks and compare it to a baseline.\n",
        "\n",
        "Specifically, you will carry out the following tasks in order:\n",
        "\n",
        "1. Implement and evaluate a simple baseline classifier MajorityLabelClassifier.\n",
        "2. Implement the `learn_classifier()` function assuming `kernel` is always one of {`linear`, `poly`, `rbf`, `sigmoid`}.\n",
        "3. Implement the `evaluate_classifier()` function which scores a classifier based on accuracy of a given dataset.\n",
        "4. Implement `best_model_selection()` to perform cross-validation by calling `learn_classifier()` and `evaluate_classifier()` for different folds and determine which of the four kernels performs the best.\n",
        "5. Go back to `learn_classifier()` and fill in the best kernel.\n",
        "\n",
        "<img src=\"https://upload.wikimedia.org/wikipedia/commons/d/d5/Hey_Machine_Learning_Logo.png\" width=\"65px\" align=\"left\" float=\"left\"/>\n",
        "<br><br><br>\n",
        "\n",
        "## Q5 (10%):\n",
        "\n",
        "To determine whether your classifier is performing well, you need to compare it to a baseline classifier. A baseline is generally a simple or trivial classifier and your classifier should beat the baseline in terms of a performance measure such as accuracy. Implement a classifier called `MajorityLabelClassifier` that always predicts the class equal to **mode** of the labels (i.e., the most frequent label) in training data. Part of the code is done for you. Implement the `fit` and `predict` methods. Initialize your classifier appropriately."
      ]
    },
    {
      "cell_type": "code",
      "execution_count": null,
      "metadata": {
        "id": "xUBpZ6_NYPuB",
        "colab": {
          "base_uri": "https://localhost:8080/"
        },
        "outputId": "200282cc-8464-4208-c5f0-3e0d70f8046c"
      },
      "outputs": [
        {
          "output_type": "stream",
          "name": "stdout",
          "text": [
            "0.5001734304543878\n"
          ]
        }
      ],
      "source": [
        "# Skeleton of MajorityLabelClassifier is consistent with other sklearn classifiers\n",
        "\n",
        "from scipy.stats import mode\n",
        "from sklearn.metrics import accuracy_score\n",
        "class MajorityLabelClassifier():\n",
        "    \"\"\"\n",
        "    A classifier that predicts the mode of training labels\n",
        "    \"\"\"\n",
        "    def __init__(self):\n",
        "        \"\"\"\n",
        "        Initialize your parameter here\n",
        "        \"\"\"\n",
        "        self.majority_label = None\n",
        "\n",
        "    def fit(self, X, y):\n",
        "        \"\"\"\n",
        "        Implement fit by taking training data X and their labels y and finding the mode of y\n",
        "        i.e. store your learned parameter\n",
        "        \"\"\"\n",
        "        self.majority_label = mode(y).mode.item()\n",
        "\n",
        "\n",
        "    def predict(self, X):\n",
        "        \"\"\"\n",
        "        Implement to give the mode of training labels as a prediction for each data instance in X\n",
        "        return labels\n",
        "        \"\"\"\n",
        "        return np.full(shape=(X.shape[0],), fill_value=self.majority_label)\n",
        "\n",
        "\n",
        "\n",
        "# Report the accuracy of your classifier by comparing the predicted label of each example to its true label\n",
        "baselineClf = MajorityLabelClassifier()\n",
        "# Use fit and predict methods to get predictions and compare it with the true labels y\n",
        "#[YOUR CODE HERE]\n",
        "baselineClf.fit(X , y)\n",
        "y_pred = baselineClf.predict(X)\n",
        "accuracy = accuracy_score(y, y_pred)\n",
        "print(accuracy)\n",
        "# print(training accuracy) should give 0.5001734304543878"
      ]
    },
    {
      "cell_type": "markdown",
      "metadata": {
        "id": "MZldwD1JYPuD"
      },
      "source": [
        "<img src=\"https://upload.wikimedia.org/wikipedia/commons/d/d5/Hey_Machine_Learning_Logo.png\" width=\"65px\" align=\"left\" float=\"left\"/>\n",
        "<br><br><br>\n",
        "\n",
        "## Q6 (10%):\n",
        "\n",
        "Implement the `learn_classifier()` function assuming `kernel` is always one of {`linear`, `poly`, `rbf`, `sigmoid`}. Stick to default values for any other optional parameters."
      ]
    },
    {
      "cell_type": "code",
      "execution_count": null,
      "metadata": {
        "id": "WGpfOK2EYPuD"
      },
      "outputs": [],
      "source": [
        "\n",
        "from sklearn.svm import SVC\n",
        "def learn_classifier(X_train, y_train, kernel):\n",
        "    \"\"\" learns a classifier from the input features and labels using the kernel function supplied\n",
        "    Inputs:\n",
        "        X_train: scipy.sparse.csr.csr_matrix: sparse matrix of features, output of create_features()\n",
        "        y_train: numpy.ndarray(int): dense binary vector of class labels, output of create_labels()\n",
        "        kernel: str: kernel function to be used with classifier. [linear|poly|rbf|sigmoid]\n",
        "    Outputs:\n",
        "        sklearn.svm.SVC: classifier learnt from data\n",
        "    \"\"\"\n",
        "\n",
        "    classifier = SVC(kernel=kernel)\n",
        "    classifier.fit(X_train, y_train)\n",
        "    return classifier\n"
      ]
    },
    {
      "cell_type": "code",
      "execution_count": null,
      "metadata": {
        "id": "iOwIKVuvYPuF",
        "colab": {
          "base_uri": "https://localhost:8080/"
        },
        "outputId": "25cc9101-01c0-4e24-e437-8493ad7c6ae9"
      },
      "outputs": [
        {
          "output_type": "stream",
          "name": "stdout",
          "text": [
            "SVC(kernel='linear')\n"
          ]
        }
      ],
      "source": [
        "# execute code\n",
        "# 1% credit\n",
        "classifier = learn_classifier(X, y, 'linear')\n",
        "print(classifier)"
      ]
    },
    {
      "cell_type": "markdown",
      "metadata": {
        "id": "PDsVwZuNYPuK"
      },
      "source": [
        "<img src=\"https://upload.wikimedia.org/wikipedia/commons/d/d5/Hey_Machine_Learning_Logo.png\" width=\"65px\" align=\"left\" float=\"left\"/>\n",
        "<br><br><br>\n",
        "\n",
        "## Q7 (10%):\n",
        "\n",
        "Now the next step is to evaluate it, ie., characterize how good its classification performance is. This step is necessary to select the best model among a given set of models, or even tune hyperparameters for a given model.\n",
        "\n",
        "There are two questions that should now come to your mind:\n",
        "1. **What data to use?**\n",
        "    - **Validation Data**: The data used to evaluate a classifier is called **validation data** (or hold-out data), and it is usually different from the data used for training. The model or hyperparameter with the best performance in the held out data is chosen. This approach is relatively fast and simple but vulnerable to biases found in validation set.\n",
        "    - **Cross-validation**: This approach divides the dataset in $k$ groups (so, called k-fold cross-validation). One of group is used as test set for evaluation and other groups as training set. The model or hyperparameter with the best average performance across all k folds is chosen. For this question you will perform 4-fold cross validation to determine the best kernel. We will keep all other hyperparameters default for now. This approach provides robustness toward biasness in validation set. However, it takes more time.\n",
        "    \n",
        "2. **And what metric?** There are several evaluation measures available in the literature (e.g., accuracy, precision, recall, F-1,etc) and different fields have different preferences for specific metrics due to different goals. We will go with accuracy. According to wiki, **accuracy** of a classifier measures the fraction of all data points that are correctly classified by it; it is the ratio of the number of correct classifications to the total number of (correct and incorrect) classifications. `sklearn.metrics` provides a number of performance metrics.\n",
        "\n",
        "Now, implement the following function."
      ]
    },
    {
      "cell_type": "code",
      "execution_count": null,
      "metadata": {
        "id": "tvLsjxqKYPuL"
      },
      "outputs": [],
      "source": [
        "# 9% credits\n",
        "from sklearn.model_selection import cross_val_score\n",
        "def evaluate_classifier(classifier, X_validation, y_validation):\n",
        "    \"\"\" evaluates a classifier based on a supplied validation data\n",
        "    Inputs:\n",
        "        classifier: sklearn.svm.classes.SVC: classifer to evaluate\n",
        "        X_validation: scipy.sparse.csr.csr_matrix: sparse matrix of features\n",
        "        y_validation: numpy.ndarray(int): dense binary vector of class labels\n",
        "    Outputs:\n",
        "        double: accuracy of classifier on the validation data\n",
        "    \"\"\"\n",
        "    # [YOUR CODE HERE]\n",
        "    y_pred = classifier.predict(X_validation)\n",
        "    accuracy = accuracy_score(y_validation ,y_pred)\n",
        "    return accuracy"
      ]
    },
    {
      "cell_type": "code",
      "execution_count": null,
      "metadata": {
        "id": "pmdMkFIzYPuN",
        "colab": {
          "base_uri": "https://localhost:8080/"
        },
        "outputId": "55c357eb-1507-48c9-b033-8112d92361f0"
      },
      "outputs": [
        {
          "output_type": "stream",
          "name": "stdout",
          "text": [
            "0.9517285235287316\n"
          ]
        }
      ],
      "source": [
        "# test your code by evaluating the accuracy on the training data\n",
        "# 1% credit\n",
        "accuracy = evaluate_classifier(classifier, X, y)\n",
        "print(accuracy)\n",
        "# should give around 0.9545034107989363"
      ]
    },
    {
      "cell_type": "markdown",
      "metadata": {
        "id": "bYYIADjZYPuP"
      },
      "source": [
        "<img src=\"https://upload.wikimedia.org/wikipedia/commons/d/d5/Hey_Machine_Learning_Logo.png\" width=\"65px\" align=\"left\" float=\"left\"/>\n",
        "<br><br><br>\n",
        "\n",
        "\n",
        "\n",
        "Now it is time to decide which kernel works best by using the cross-validation technique. Write code to split the training data into 4-folds (75% training and 25% validation) by shuffling randomly. For each kernel, record the average accuracy for all folds and determine the best classifier. Since our dataset is balanced (both classes are in almost equal propertion), `sklearn.model_selection.KFold` [doc](https://scikit-learn.org/stable/modules/generated/sklearn.model_selection.KFold.html) can be used for cross-validation."
      ]
    },
    {
      "cell_type": "code",
      "execution_count": null,
      "metadata": {
        "id": "nq5AlMoUYPuQ",
        "colab": {
          "base_uri": "https://localhost:8080/"
        },
        "outputId": "1dda6e5c-c043-410d-df6a-0a2985dd2cbd"
      },
      "outputs": [
        {
          "output_type": "execute_result",
          "data": {
            "text/plain": [
              "KFold(n_splits=4, random_state=1, shuffle=True)"
            ]
          },
          "metadata": {},
          "execution_count": 24
        }
      ],
      "source": [
        "kf = sklearn.model_selection.KFold(n_splits=4, random_state=1, shuffle=True)\n",
        "kf"
      ]
    },
    {
      "cell_type": "markdown",
      "metadata": {
        "id": "Og6hzUPPYPuT"
      },
      "source": [
        "Then use the following code to determine which classifier is the best."
      ]
    },
    {
      "cell_type": "code",
      "execution_count": null,
      "metadata": {
        "id": "oJAjQyNKYPuT",
        "colab": {
          "base_uri": "https://localhost:8080/",
          "height": 35
        },
        "outputId": "3b555bb4-072b-4811-cd84-094f693f8e07"
      },
      "outputs": [
        {
          "output_type": "execute_result",
          "data": {
            "text/plain": [
              "'poly'"
            ],
            "application/vnd.google.colaboratory.intrinsic+json": {
              "type": "string"
            }
          },
          "metadata": {},
          "execution_count": 25
        }
      ],
      "source": [
        "\n",
        "def best_model_selection(kf, X, y):\n",
        "    \"\"\"\n",
        "    Select the kernel giving best results using k-fold cross-validation.\n",
        "    Other parameters should be left default.\n",
        "    Input:\n",
        "    kf (sklearn.model_selection.KFold): kf object defined above\n",
        "    X (scipy.sparse.csr.csr_matrix): training data\n",
        "    y (array(int)): training labels\n",
        "    Return:\n",
        "    best_kernel (string)\n",
        "    \"\"\"\n",
        "    best_kernel = None\n",
        "    best_accuracy = 0\n",
        "    accuracy_list = []\n",
        "    for kernel in ['linear', 'rbf', 'poly', 'sigmoid']:\n",
        "        accuracy = []\n",
        "        for train_index, val_index in kf.split(X):\n",
        "            x_train, x_val = X[train_index], X[val_index]\n",
        "            y_train, y_val = y[train_index], y[val_index]\n",
        "            kernel_classifier = learn_classifier(x_train, y_train, kernel)\n",
        "            val = evaluate_classifier(kernel_classifier, x_val, y_val)\n",
        "            accuracy.append(val)\n",
        "        mean_acc = np.mean(accuracy)\n",
        "        if mean_acc > best_accuracy:\n",
        "          best_accuracy = mean_acc\n",
        "          best_kernel = kernel\n",
        "\n",
        "    return best_kernel\n",
        "\n",
        "\n",
        "\n",
        "        # Use the documentation of KFold cross-validation to split ..\n",
        "        # training data and test data from create_features() and create_labels()\n",
        "        # call learn_classifer() using training split of kth fold\n",
        "        # evaluate on the test split of kth fold\n",
        "        # record avg accuracies and determine best model (kernel)\n",
        "    #return best kernel as string\n",
        "\n",
        "#Test your code\n",
        "best_kernel = best_model_selection(kf, X, y)\n",
        "best_kernel"
      ]
    },
    {
      "cell_type": "markdown",
      "metadata": {
        "id": "Yho_UYX7YPuX"
      },
      "source": [
        "<img src=\"https://upload.wikimedia.org/wikipedia/commons/d/d5/Hey_Machine_Learning_Logo.png\" width=\"65px\" align=\"left\" float=\"left\"/>\n",
        "<br><br><br>\n",
        "\n",
        "## Q9 (10%)\n",
        "\n",
        "We're almost done! It's time to write a nice little wrapper function that will use our model to classify unlabeled tweets from tweets_test.csv file."
      ]
    },
    {
      "cell_type": "code",
      "execution_count": null,
      "metadata": {
        "id": "qth7DPekYPuY"
      },
      "outputs": [],
      "source": [
        "# 8% credits\n",
        "def classify_tweets(tfidf, classifier, unlabeled_tweets):\n",
        "    \"\"\" predicts class labels for raw tweet text\n",
        "    Inputs:\n",
        "        tfidf: sklearn.feature_extraction.text.TfidfVectorizer: the TfidfVectorizer object used on training data\n",
        "        classifier: sklearn.svm.SVC: classifier learned\n",
        "        unlabeled_tweets: pd.DataFrame: tweets read from tweets_test.csv\n",
        "    Outputs:\n",
        "        numpy.ndarray(int): dense binary vector of class labels for unlabeled tweets\n",
        "    \"\"\"\n",
        "    # [YOUR CODE HERE]\n",
        "    processed_twt = [process(tweet) for tweet in unlabeled_tweets['text']]\n",
        "    process_tweet_as_string = [\" \".join(tokens) for tokens in processed_twt]\n",
        "\n",
        "    x_unlabeled = tfidf.transform(process_tweet_as_string)\n",
        "    y_pred = classifier.predict(x_unlabeled)\n",
        "\n",
        "    return y_pred"
      ]
    },
    {
      "cell_type": "code",
      "execution_count": null,
      "metadata": {
        "id": "KKNMwVVgYPua"
      },
      "outputs": [],
      "source": [
        "# Get predictions for unlabelled test data\n",
        "\n",
        "classifier = learn_classifier(X, y, best_kernel)\n",
        "unlabeled_tweets = pd.read_csv(\"tweets_test.csv\", na_filter=False)\n",
        "y_pred = classify_tweets(tfidf, classifier, unlabeled_tweets)"
      ]
    },
    {
      "cell_type": "markdown",
      "source": [
        "The accuracy is obtained with baseline is just 50 % while SVC the accuracy with linear classifier is approximately 95%. Clearly usng SVM gives better accuracy as it classify better then baseline model. The SVM thrives to divide data betterly then baseline model"
      ],
      "metadata": {
        "id": "YFcEKBINxWu4"
      }
    }
  ],
  "metadata": {
    "colab": {
      "provenance": []
    },
    "kernelspec": {
      "display_name": "base",
      "language": "python",
      "name": "python3"
    },
    "language_info": {
      "codemirror_mode": {
        "name": "ipython",
        "version": 3
      },
      "file_extension": ".py",
      "mimetype": "text/x-python",
      "name": "python",
      "nbconvert_exporter": "python",
      "pygments_lexer": "ipython3",
      "version": "3.12.4"
    }
  },
  "nbformat": 4,
  "nbformat_minor": 0
}